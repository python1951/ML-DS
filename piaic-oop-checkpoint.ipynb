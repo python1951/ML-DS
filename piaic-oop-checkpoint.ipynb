{
 "cells": [
  {
   "cell_type": "code",
   "execution_count": 2,
   "metadata": {},
   "outputs": [
    {
     "name": "stdout",
     "output_type": "stream",
     "text": [
      "408\n"
     ]
    }
   ],
   "source": [
    "def fun(a,b):\n",
    "    z=a * b\n",
    "    return z\n",
    "\n",
    "print(fun(12,34))"
   ]
  },
  {
   "cell_type": "markdown",
   "metadata": {},
   "source": [
    "types of langauges \n",
    "binary level\n",
    "assembly languages \n",
    "more lines of code \n",
    "high level language \n",
    "only  single line for  printing to console\n",
    "high->assembly->binary(101010)\n",
    "paradigms\n",
    "linear paraadigm\n",
    "functional/procedural/structural programming->define functions \n",
    "oop paradigm\n",
    "in order to map real world entities \n",
    "manage \n",
    "everything in the real world is an object having some properties and attributes \n",
    "->methodds/functions->actions\n",
    "attributes/properties -> specifications\n",
    "we can consider almost every real world entities."
   ]
  },
  {
   "cell_type": "code",
   "execution_count": 5,
   "metadata": {},
   "outputs": [
    {
     "name": "stdout",
     "output_type": "stream",
     "text": [
      "blu is a bird and something\n",
      "blu is  a poly and age is 23\n"
     ]
    }
   ],
   "source": [
    "class Parrot:\n",
    "    species=\"bird and something\"\n",
    "    def __init__(self,name,age):\n",
    "        self.name=name\n",
    "        self.age=age\n",
    "        \n",
    "blu=Parrot(\"poxo\",1)\n",
    "print(\"blu is a {}\".format(blu.__class__.species))\n",
    "po=Parrot(\"poly\",23)\n",
    "print(\"blu is  a {} and age is {}\".format(po.name,po.age))\n",
    "\n"
   ]
  },
  {
   "cell_type": "code",
   "execution_count": 11,
   "metadata": {},
   "outputs": [
    {
     "name": "stdout",
     "output_type": "stream",
     "text": [
      "My name is Ali and age is 1 and roll_no is 1\n"
     ]
    }
   ],
   "source": [
    "class Student:\n",
    "    def __init__(self,name,age,roll_no):\n",
    "        self.name=name\n",
    "        self.age=age\n",
    "        self.roll_no=roll_no\n",
    "    def info(self,name,age,roll_no):\n",
    "        print(\"My name is {} and age is {} and roll_no is {}\".format(self.name,self.age,self.roll_no))\n",
    "    def info1(self,name,age,roll_no):\n",
    "        print(\"My name is {} and age is {} and roll_no is {}\".format(name,age,roll_no))\n",
    "obj=Student(\"ahmad\",21,3333)\n",
    "obj.info1(\"Ali\",1,1)"
   ]
  },
  {
   "cell_type": "markdown",
   "metadata": {},
   "source": [
    "python is not pure object oriented programming "
   ]
  },
  {
   "cell_type": "markdown",
   "metadata": {},
   "source": [
    "polymorphism->\n",
    "    perfoming more than one tasks\n",
    "    + operator is used for\n",
    "    concatenation\n",
    "    addition\n",
    "overloading-->\n",
    "    same function\n",
    "    more than one time\n",
    "    differ in\n",
    "    number of para\n",
    "    order\n",
    "    data type of parameters\n",
    "\n",
    "overwriting->\n",
    "    same function in parent and child\n",
    "    but in child changing its attr\n",
    "abstractions->\n",
    "    employee class \n",
    "    having abstract attr(not complete details,incomplete)\n",
    "    then furthur classifying into Software engr\n",
    "    Doctor,Data Scientist\n",
    "   \n"
   ]
  },
  {
   "cell_type": "code",
   "execution_count": 36,
   "metadata": {},
   "outputs": [
    {
     "name": "stdout",
     "output_type": "stream",
     "text": [
      "Welcome 23\n",
      "2\n",
      "3\n",
      "4\n",
      "1\n",
      "ALi\n",
      "Ahmad\n",
      "Akmal\n"
     ]
    }
   ],
   "source": [
    "class Student():\n",
    "    counter=0\n",
    "    def __init__(self,sid):\n",
    "        self.sid = sid\n",
    "        self.fname=\"\"\n",
    "        self.lname=''\n",
    "        self.course=\"\"\n",
    "        self.fee=0\n",
    "        Student.counter+=1\n",
    "    def login(self,user,passw):\n",
    "        self.user=user\n",
    "        print(\"Welcome\",self.user,)\n",
    "    def logout(self):\n",
    "        pass\n",
    "    def quiz_attempt(self):\n",
    "        pass\n",
    "    def attendence_mak(self):\n",
    "        pass\n",
    "s1=Student(1)\n",
    "s4=Student(43)\n",
    "s4.login(\"23\",12)\n",
    "print(Student.counter)\n",
    "s2=Student(2)\n",
    "print(Student.counter)\n",
    "s3=Student(23)\n",
    "print(Student.counter)\n",
    "print(s1.sid)\n",
    "s1.name=\"ALi\"\n",
    "s2.name=\"Ahmad\"\n",
    "s3.name=\"Akmal\"\n",
    "print(s1.name,s2.name,s3.name ,sep=\"\\n\" )\n"
   ]
  },
  {
   "cell_type": "markdown",
   "metadata": {},
   "source": [
    "this,self->managing individual those set of properties"
   ]
  },
  {
   "cell_type": "code",
   "execution_count": 26,
   "metadata": {},
   "outputs": [
    {
     "data": {
      "text/plain": [
       "0"
      ]
     },
     "execution_count": 26,
     "metadata": {},
     "output_type": "execute_result"
    }
   ],
   "source": [
    "s1.counter"
   ]
  },
  {
   "cell_type": "code",
   "execution_count": 27,
   "metadata": {},
   "outputs": [
    {
     "data": {
      "text/plain": [
       "0"
      ]
     },
     "execution_count": 27,
     "metadata": {},
     "output_type": "execute_result"
    }
   ],
   "source": [
    "s1.__class__.counter"
   ]
  },
  {
   "cell_type": "code",
   "execution_count": 28,
   "metadata": {},
   "outputs": [
    {
     "data": {
      "text/plain": [
       "0"
      ]
     },
     "execution_count": 28,
     "metadata": {},
     "output_type": "execute_result"
    }
   ],
   "source": [
    "Student.counter"
   ]
  },
  {
   "cell_type": "markdown",
   "metadata": {},
   "source": [
    "Class Varaible"
   ]
  },
  {
   "cell_type": "code",
   "execution_count": 37,
   "metadata": {},
   "outputs": [],
   "source": [
    "s1.DOB=\"21-2-20\""
   ]
  },
  {
   "cell_type": "code",
   "execution_count": 38,
   "metadata": {},
   "outputs": [
    {
     "name": "stdout",
     "output_type": "stream",
     "text": [
      "21-2-20\n"
     ]
    }
   ],
   "source": [
    "print(s1.DOB)"
   ]
  },
  {
   "cell_type": "code",
   "execution_count": 39,
   "metadata": {},
   "outputs": [
    {
     "data": {
      "text/plain": [
       "'21-2-20'"
      ]
     },
     "execution_count": 39,
     "metadata": {},
     "output_type": "execute_result"
    }
   ],
   "source": [
    "s1.DOB"
   ]
  },
  {
   "cell_type": "code",
   "execution_count": 43,
   "metadata": {},
   "outputs": [],
   "source": [
    "del s1.fee"
   ]
  },
  {
   "cell_type": "code",
   "execution_count": 46,
   "metadata": {},
   "outputs": [
    {
     "data": {
      "text/plain": [
       "'21-2-20'"
      ]
     },
     "execution_count": 46,
     "metadata": {},
     "output_type": "execute_result"
    }
   ],
   "source": [
    "s1.__getattribute__(\"DOB\")"
   ]
  },
  {
   "cell_type": "markdown",
   "metadata": {},
   "source": [
    "# INHERITANCE"
   ]
  },
  {
   "cell_type": "code",
   "execution_count": 49,
   "metadata": {},
   "outputs": [],
   "source": [
    "class Animal():\n",
    "    def __init__(self,):\n",
    "        self.type=\"\"\n",
    "        self.fname=\" \"\n",
    "    def Type(self,specie):\n",
    "        print(\"The type is \",specie)\n",
    "    def Appearence(self,eat=\"tortilla\"):\n",
    "        print(\"it eats\",eat)\n",
    "class Dog(Animal):\n",
    "    pass\n",
    "    "
   ]
  },
  {
   "cell_type": "code",
   "execution_count": 52,
   "metadata": {},
   "outputs": [
    {
     "name": "stdout",
     "output_type": "stream",
     "text": [
      "abc\n"
     ]
    }
   ],
   "source": [
    "a=Dog()\n",
    "a.fname=\"abc\"\n",
    "print(a.fname)"
   ]
  },
  {
   "cell_type": "code",
   "execution_count": 67,
   "metadata": {},
   "outputs": [
    {
     "name": "stdout",
     "output_type": "stream",
     "text": [
      "The name is  ali  and agea is  12\n",
      "speak from father\n"
     ]
    }
   ],
   "source": [
    "class Father():\n",
    "    def __init__(self,):\n",
    "        self.name=\"\"\n",
    "        self.age=\"\"\n",
    "    def info(self,name,age):\n",
    "        print(\"The name is \",name,\" and agea is \",age)\n",
    "    def speak(self,):\n",
    "        print('speak from father')\n",
    "class Mother():\n",
    "    def __init__(self,):\n",
    "        self.name=name\n",
    "        self.age=age\n",
    "    def info(self,name,age):\n",
    "        print(\"The name is \",name,\" and agea is \",age)\n",
    "    def speak(self,):\n",
    "        print('speak from mother')\n",
    "class Child(Father,Mother):\n",
    "       pass\n",
    "c=Child()\n",
    "c.info(\"ali\",12)\n",
    "c.speak()"
   ]
  },
  {
   "cell_type": "markdown",
   "metadata": {},
   "source": [
    "# Polymorphism"
   ]
  },
  {
   "cell_type": "code",
   "execution_count": 82,
   "metadata": {},
   "outputs": [
    {
     "name": "stdout",
     "output_type": "stream",
     "text": [
      "121224\n"
     ]
    }
   ],
   "source": [
    "class A():\n",
    "    def abc(self,*a):\n",
    "       print(sum(a))\n",
    "            \n",
    "    def abc1(self,a=\"\",b=\"\"):\n",
    "        if a ==\"aaa\":\n",
    "            print(\"Aaa\")\n",
    "        \n",
    "obj1=A()\n",
    "\n",
    "obj1.abc(12,121212)\n"
   ]
  },
  {
   "cell_type": "code",
   "execution_count": 85,
   "metadata": {},
   "outputs": [
    {
     "name": "stdout",
     "output_type": "stream",
     "text": [
      "Speak B\n"
     ]
    }
   ],
   "source": [
    "class B():\n",
    "    def speak(self):\n",
    "        print(\"Speak B\")\n",
    "class A(B):\n",
    "    def speak(self):#overriding\n",
    "        print(\"Speak from A\")\n",
    "obj1=B()\n",
    "obj1.speak()"
   ]
  },
  {
   "cell_type": "code",
   "execution_count": null,
   "metadata": {},
   "outputs": [],
   "source": []
  }
 ],
 "metadata": {
  "kernelspec": {
   "display_name": "Python 3",
   "language": "python",
   "name": "python3"
  },
  "language_info": {
   "codemirror_mode": {
    "name": "ipython",
    "version": 3
   },
   "file_extension": ".py",
   "mimetype": "text/x-python",
   "name": "python",
   "nbconvert_exporter": "python",
   "pygments_lexer": "ipython3",
   "version": "3.7.3"
  }
 },
 "nbformat": 4,
 "nbformat_minor": 2
}
