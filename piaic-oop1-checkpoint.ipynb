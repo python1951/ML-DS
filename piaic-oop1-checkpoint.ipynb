{
 "cells": [
  {
   "cell_type": "markdown",
   "metadata": {},
   "source": [
    "excepion handling and file handling\n"
   ]
  },
  {
   "cell_type": "markdown",
   "metadata": {},
   "source": [
    "package and module\n",
    "a folder is considered as a package containing python files\n",
    "an each file is known as module"
   ]
  },
  {
   "cell_type": "code",
   "execution_count": 1,
   "metadata": {},
   "outputs": [],
   "source": [
    "#encapsulation"
   ]
  },
  {
   "cell_type": "code",
   "execution_count": 29,
   "metadata": {},
   "outputs": [],
   "source": [
    "class A():\n",
    "    def __init__(self,name,age):\n",
    "        self.__name=name\n",
    "        self.__age=age# __ makes the attribute private \n",
    "    def __display(self):\n",
    "        print(\"name:\",self.__name)\n",
    "        print(\"Age:\",self.__age)\n",
    "    def __change(self,a,b):\n",
    "        self.__name=a\n",
    "        self.__age=b\n",
    "    def __info(self):\n",
    "        print( \" hello world\")\n",
    "a=A(\"Ali\",99)#python is not pure oop"
   ]
  },
  {
   "cell_type": "code",
   "execution_count": 24,
   "metadata": {},
   "outputs": [
    {
     "data": {
      "text/plain": [
       "'Ali'"
      ]
     },
     "execution_count": 24,
     "metadata": {},
     "output_type": "execute_result"
    }
   ],
   "source": [
    "a._A__name"
   ]
  },
  {
   "cell_type": "code",
   "execution_count": 25,
   "metadata": {},
   "outputs": [
    {
     "name": "stdout",
     "output_type": "stream",
     "text": [
      "name: Ali\n",
      "Age: 99\n"
     ]
    }
   ],
   "source": [
    "a._A__display()"
   ]
  },
  {
   "cell_type": "code",
   "execution_count": 26,
   "metadata": {},
   "outputs": [],
   "source": [
    "a._A__change(\"kami\",98)"
   ]
  },
  {
   "cell_type": "code",
   "execution_count": 27,
   "metadata": {},
   "outputs": [
    {
     "name": "stdout",
     "output_type": "stream",
     "text": [
      "name: kami\n",
      "Age: 98\n"
     ]
    }
   ],
   "source": [
    "a._A__display()"
   ]
  },
  {
   "cell_type": "code",
   "execution_count": 31,
   "metadata": {},
   "outputs": [
    {
     "name": "stdout",
     "output_type": "stream",
     "text": [
      " hello world\n"
     ]
    }
   ],
   "source": [
    "a._A__info()"
   ]
  },
  {
   "cell_type": "code",
   "execution_count": null,
   "metadata": {},
   "outputs": [],
   "source": []
  },
  {
   "cell_type": "markdown",
   "metadata": {},
   "source": [
    "# Abstraction"
   ]
  },
  {
   "cell_type": "markdown",
   "metadata": {},
   "source": [
    "we dont write brackets after name of class  to make it abstract"
   ]
  },
  {
   "cell_type": "code",
   "execution_count": 33,
   "metadata": {},
   "outputs": [],
   "source": [
    "from abc import ABC, abstractmethod"
   ]
  },
  {
   "cell_type": "code",
   "execution_count": 63,
   "metadata": {},
   "outputs": [],
   "source": [
    "class A(ABC):\n",
    "    @abstractmethod\n",
    "    def __init__(self,a,b):\n",
    "        self.a=a\n",
    "        self.b=b\n",
    "    @abstractmethod\n",
    "    def alpha(self):\n",
    "        pass\n",
    "class B(A):\n",
    "    def __init__(self,a,b):\n",
    "        self.a=a\n",
    "        self.b=b\n",
    "    def alpha(self):\n",
    "        print(\"hekk\")\n",
    "#\n",
    "obj2=B(12,3)"
   ]
  },
  {
   "cell_type": "code",
   "execution_count": 64,
   "metadata": {},
   "outputs": [
    {
     "name": "stdout",
     "output_type": "stream",
     "text": [
      "hekk\n"
     ]
    }
   ],
   "source": [
    "obj2.alpha()"
   ]
  },
  {
   "cell_type": "code",
   "execution_count": 65,
   "metadata": {},
   "outputs": [],
   "source": [
    "#oop concepts in python"
   ]
  },
  {
   "cell_type": "code",
   "execution_count": 67,
   "metadata": {},
   "outputs": [],
   "source": [
    "#inheritence"
   ]
  },
  {
   "cell_type": "code",
   "execution_count": 75,
   "metadata": {},
   "outputs": [],
   "source": [
    "class Vehicle():\n",
    "    def __init__(self,name,model):\n",
    "        self.name=name\n",
    "        self.model=model\n",
    "    def Speed(self):\n",
    "        print(\"Vehicle has some speed\")\n",
    "class Car(Vehicle):\n",
    "    def __init__(self,name,model):\n",
    "        self.name=name\n",
    "        self.model=model\n",
    "    def Speed(self,name):\n",
    "        print(\"Car has favourable speed\")\n",
    "alpha=Vehicle(\"xyz\",2019)\n",
    "beta=Car(\"axe\",2020)"
   ]
  },
  {
   "cell_type": "code",
   "execution_count": 77,
   "metadata": {},
   "outputs": [
    {
     "name": "stdout",
     "output_type": "stream",
     "text": [
      "Vehicle has some speed\n",
      "Car has favourable speed\n"
     ]
    }
   ],
   "source": [
    "alpha.Speed()\n",
    "beta.Speed(\"axe\")"
   ]
  },
  {
   "cell_type": "code",
   "execution_count": 78,
   "metadata": {},
   "outputs": [],
   "source": [
    "# abstraction"
   ]
  },
  {
   "cell_type": "code",
   "execution_count": 79,
   "metadata": {},
   "outputs": [],
   "source": [
    "from abc import ABC, abstractmethod"
   ]
  },
  {
   "cell_type": "code",
   "execution_count": 82,
   "metadata": {},
   "outputs": [
    {
     "name": "stdout",
     "output_type": "stream",
     "text": [
      "There is nothing to show\n"
     ]
    }
   ],
   "source": [
    "class A(ABC):\n",
    "    def __init__(self,name):\n",
    "        self.name=name\n",
    "    def show(self):\n",
    "        pass\n",
    "class B(A):\n",
    "    def __init__(self,age):\n",
    "        self.age=age\n",
    "    def show(self):\n",
    "        print(\"There is nothing to show\")\n",
    "O=B(21)\n",
    "O.show()"
   ]
  },
  {
   "cell_type": "code",
   "execution_count": 83,
   "metadata": {},
   "outputs": [],
   "source": [
    "#encapsulation"
   ]
  },
  {
   "cell_type": "code",
   "execution_count": 86,
   "metadata": {},
   "outputs": [
    {
     "name": "stdout",
     "output_type": "stream",
     "text": [
      "The gauge is 32 and you should prefer 21\n"
     ]
    }
   ],
   "source": [
    "class Cap():\n",
    "    def __init__(self,name):\n",
    "        self.name=name\n",
    "    def __model(self,number):\n",
    "        print(\"The number is 2019\")\n",
    "    def __ee(self,gauge):\n",
    "        print(\"The gauge is 32 and you should prefer\",gauge)\n",
    "p=Cap(\"hat\")\n",
    "p._Cap__ee(21)\n"
   ]
  },
  {
   "cell_type": "code",
   "execution_count": 87,
   "metadata": {},
   "outputs": [],
   "source": [
    "#polymorphism"
   ]
  },
  {
   "cell_type": "code",
   "execution_count": 109,
   "metadata": {},
   "outputs": [],
   "source": [
    "class Maths():\n",
    "    def __init__(self,a,b):\n",
    "        self.a=a\n",
    "        self.b=b\n",
    "     \n",
    "    def multiply(self,a,b):\n",
    "        print(a*b)\n",
    "    def multiply(self,a,c,d):\n",
    "        print(a*c*d)\n",
    "m=Maths(12,1)"
   ]
  },
  {
   "cell_type": "code",
   "execution_count": 110,
   "metadata": {},
   "outputs": [
    {
     "name": "stdout",
     "output_type": "stream",
     "text": [
      "144\n"
     ]
    }
   ],
   "source": [
    "m.multiply(12,4,3)"
   ]
  },
  {
   "cell_type": "code",
   "execution_count": 111,
   "metadata": {},
   "outputs": [
    {
     "data": {
      "text/plain": [
       "23"
      ]
     },
     "execution_count": 111,
     "metadata": {},
     "output_type": "execute_result"
    }
   ],
   "source": [
    "int('23')"
   ]
  },
  {
   "cell_type": "code",
   "execution_count": 114,
   "metadata": {},
   "outputs": [
    {
     "data": {
      "text/plain": [
       "['3', '2']"
      ]
     },
     "execution_count": 114,
     "metadata": {},
     "output_type": "execute_result"
    }
   ],
   "source": [
    "list('32')"
   ]
  },
  {
   "cell_type": "code",
   "execution_count": 115,
   "metadata": {},
   "outputs": [],
   "source": [
    "#exception handling"
   ]
  },
  {
   "cell_type": "markdown",
   "metadata": {},
   "source": [
    "# try:\n",
    "    your code\n",
    "except:\n",
    "    (errClass1,errClass2)\n",
    "    show message\n",
    "else: messageshow if exception is not handled properly\n",
    "finally:\n",
    "always run this block"
   ]
  },
  {
   "cell_type": "code",
   "execution_count": 117,
   "metadata": {},
   "outputs": [
    {
     "name": "stdout",
     "output_type": "stream",
     "text": [
      "cannot divide by zero\n"
     ]
    }
   ],
   "source": [
    "try:\n",
    "    print(5/0)\n",
    "except(ZeroDivisionError):\n",
    "    print(\"cannot divide by zero\")"
   ]
  },
  {
   "cell_type": "code",
   "execution_count": 119,
   "metadata": {},
   "outputs": [
    {
     "name": "stdout",
     "output_type": "stream",
     "text": [
      "canot do\n"
     ]
    }
   ],
   "source": [
    "try:\n",
    "    a=[2,34,5]\n",
    "    print(a[9])\n",
    "except IndexError:\n",
    "    print(\"canot do\")"
   ]
  },
  {
   "cell_type": "code",
   "execution_count": 120,
   "metadata": {},
   "outputs": [
    {
     "name": "stdout",
     "output_type": "stream",
     "text": [
      "no file there\n"
     ]
    }
   ],
   "source": [
    "try:\n",
    "    open(\"a.txt\")\n",
    "except FileNotFoundError:\n",
    "    print(\"no file there\")"
   ]
  },
  {
   "cell_type": "code",
   "execution_count": 121,
   "metadata": {},
   "outputs": [],
   "source": [
    "#can merge all errors and their excptions"
   ]
  },
  {
   "cell_type": "code",
   "execution_count": 126,
   "metadata": {},
   "outputs": [
    {
     "name": "stdout",
     "output_type": "stream",
     "text": [
      "oh division by zero\n"
     ]
    }
   ],
   "source": [
    "try:\n",
    "    print(4/0)\n",
    "    open(\"a.txt\")\n",
    "except  Exception as e:\n",
    "    print(\"oh\",e)"
   ]
  },
  {
   "cell_type": "code",
   "execution_count": 135,
   "metadata": {},
   "outputs": [
    {
     "name": "stdout",
     "output_type": "stream",
     "text": [
      "7.0\n",
      "cant do\n",
      "end...........\n"
     ]
    }
   ],
   "source": [
    "try:\n",
    "    print(7/1)\n",
    "except Exception as a:\n",
    "    print(a)\n",
    "else:\n",
    "    print(\"cant do\")# when no error is generated\n",
    "finally:\n",
    "    print(\"end...........\")#runs in every situation"
   ]
  },
  {
   "cell_type": "code",
   "execution_count": 136,
   "metadata": {},
   "outputs": [
    {
     "data": {
      "text/plain": [
       "'win32'"
      ]
     },
     "execution_count": 136,
     "metadata": {},
     "output_type": "execute_result"
    }
   ],
   "source": [
    "import sys\n",
    "sys.platform"
   ]
  },
  {
   "cell_type": "code",
   "execution_count": null,
   "metadata": {
    "collapsed": true
   },
   "outputs": [],
   "source": []
  },
  {
   "cell_type": "code",
   "execution_count": null,
   "metadata": {},
   "outputs": [],
   "source": []
  },
  {
   "cell_type": "code",
   "execution_count": null,
   "metadata": {},
   "outputs": [],
   "source": []
  },
  {
   "cell_type": "code",
   "execution_count": null,
   "metadata": {},
   "outputs": [],
   "source": []
  }
 ],
 "metadata": {
  "kernelspec": {
   "display_name": "Python 3",
   "language": "python",
   "name": "python3"
  },
  "language_info": {
   "codemirror_mode": {
    "name": "ipython",
    "version": 3
   },
   "file_extension": ".py",
   "mimetype": "text/x-python",
   "name": "python",
   "nbconvert_exporter": "python",
   "pygments_lexer": "ipython3",
   "version": "3.7.3"
  }
 },
 "nbformat": 4,
 "nbformat_minor": 2
}
